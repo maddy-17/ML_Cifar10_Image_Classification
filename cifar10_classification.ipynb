{
  "nbformat": 4,
  "nbformat_minor": 0,
  "metadata": {
    "kernelspec": {
      "display_name": "Python 3",
      "language": "python",
      "name": "python3"
    },
    "language_info": {
      "codemirror_mode": {
        "name": "ipython",
        "version": 3
      },
      "file_extension": ".py",
      "mimetype": "text/x-python",
      "name": "python",
      "nbconvert_exporter": "python",
      "pygments_lexer": "ipython3",
      "version": "3.7.7"
    },
    "colab": {
      "name": "02-CNN-Project-Exercise.ipynb",
      "provenance": [],
      "toc_visible": true
    },
    "accelerator": "GPU"
  },
  "cells": [
    {
      "cell_type": "markdown",
      "metadata": {
        "id": "Ba7xqNxbJJLi",
        "colab_type": "text"
      },
      "source": [
        "## CNN-Project-Exercise\n",
        "We'll be using the CIFAR-10 dataset, which is very famous dataset for image recognition! \n",
        "\n",
        "The CIFAR-10 dataset consists of 60000 32x32 colour images in 10 classes, with 6000 images per class. There are 50000 training images and 10000 test images. \n",
        "\n",
        "The dataset is divided into five training batches and one test batch, each with 10000 images. The test batch contains exactly 1000 randomly-selected images from each class. The training batches contain the remaining images in random order, but some training batches may contain more images from one class than another. Between them, the training batches contain exactly 5000 images from each class. \n"
      ]
    },
    {
      "cell_type": "markdown",
      "metadata": {
        "id": "34qnjKcTJJLk",
        "colab_type": "text"
      },
      "source": [
        "** Download the data for CIFAR from here: https://www.cs.toronto.edu/~kriz/cifar.html **"
      ]
    },
    {
      "cell_type": "code",
      "metadata": {
        "id": "EhDY9aXOJJLl",
        "colab_type": "code",
        "colab": {}
      },
      "source": [
        "CIFAR_DIR = 'cifar-10-batches-py/'"
      ],
      "execution_count": 2,
      "outputs": []
    },
    {
      "cell_type": "markdown",
      "metadata": {
        "id": "apJZOwkyJJLr",
        "colab_type": "text"
      },
      "source": [
        "The archive contains the files data_batch_1, data_batch_2, ..., data_batch_5, as well as test_batch. Each of these files is a Python \"pickled\" object produced with cPickle. \n",
        "\n",
        "** Load the Data. Use the Code Below to load the data: **"
      ]
    },
    {
      "cell_type": "code",
      "metadata": {
        "id": "Qfp6fX46JJLs",
        "colab_type": "code",
        "colab": {}
      },
      "source": [
        "def unpickle(file):\n",
        "    import pickle\n",
        "    with open(file, 'rb') as fo:\n",
        "        cifar_dict = pickle.load(fo, encoding='bytes')\n",
        "    return cifar_dict"
      ],
      "execution_count": 3,
      "outputs": []
    },
    {
      "cell_type": "code",
      "metadata": {
        "id": "0ln3ePGPJJLw",
        "colab_type": "code",
        "colab": {}
      },
      "source": [
        "dirs = ['batches.meta','data_batch_1','data_batch_2','data_batch_3','data_batch_4','data_batch_5','test_batch']"
      ],
      "execution_count": 4,
      "outputs": []
    },
    {
      "cell_type": "code",
      "metadata": {
        "id": "XNLF46ZPJJL0",
        "colab_type": "code",
        "colab": {}
      },
      "source": [
        "all_data = [0,1,2,3,4,5,6]"
      ],
      "execution_count": 5,
      "outputs": []
    },
    {
      "cell_type": "code",
      "metadata": {
        "id": "NJnI__-sJJL5",
        "colab_type": "code",
        "colab": {}
      },
      "source": [
        "for i,direc in zip(all_data,dirs):\n",
        "    all_data[i] = unpickle(CIFAR_DIR+direc)"
      ],
      "execution_count": 6,
      "outputs": []
    },
    {
      "cell_type": "code",
      "metadata": {
        "id": "Rp5b03ypJJL9",
        "colab_type": "code",
        "colab": {}
      },
      "source": [
        "batch_meta = all_data[0]\n",
        "data_batch1 = all_data[1]\n",
        "data_batch2 = all_data[2]\n",
        "data_batch3 = all_data[3]\n",
        "data_batch4 = all_data[4]\n",
        "data_batch5 = all_data[5]\n",
        "test_batch = all_data[6]"
      ],
      "execution_count": 7,
      "outputs": []
    },
    {
      "cell_type": "markdown",
      "metadata": {
        "id": "NM2kLmdiJJML",
        "colab_type": "text"
      },
      "source": [
        "Loaded in this way, each of the batch files contains a dictionary with the following elements:\n",
        "* data -- a 10000x3072 numpy array of uint8s. Each row of the array stores a 32x32 colour image. The first 1024 entries contain the red channel values, the next 1024 the green, and the final 1024 the blue. The image is stored in row-major order, so that the first 32 entries of the array are the red channel values of the first row of the image.\n",
        "* labels -- a list of 10000 numbers in the range 0-9. The number at index i indicates the label of the ith image in the array data.\n",
        "\n",
        "The dataset contains another file, called batches.meta. It too contains a Python dictionary object. It has the following entries:\n",
        "\n",
        "* label_names -- a 10-element list which gives meaningful names to the numeric labels in the labels array described above. For example, label_names[0] == \"airplane\", label_names[1] == \"automobile\", etc."
      ]
    },
    {
      "cell_type": "code",
      "metadata": {
        "id": "VJ1sZS0TJJMN",
        "colab_type": "code",
        "colab": {}
      },
      "source": [
        "import matplotlib.pyplot as plt\n",
        "%matplotlib inline\n",
        "import numpy as np"
      ],
      "execution_count": 8,
      "outputs": []
    },
    {
      "cell_type": "code",
      "metadata": {
        "id": "WXYSkihMJJMQ",
        "colab_type": "code",
        "colab": {}
      },
      "source": [
        "X = data_batch1[b\"data\"] \n",
        "X = X.reshape(10000, 3, 32, 32).transpose(0,2,3,1).astype(\"uint8\")"
      ],
      "execution_count": 9,
      "outputs": []
    },
    {
      "cell_type": "code",
      "metadata": {
        "id": "W3wDV6cIJJMU",
        "colab_type": "code",
        "colab": {
          "base_uri": "https://localhost:8080/",
          "height": 283
        },
        "outputId": "5799f8bf-243e-4c6a-9791-e781a8f91fa1"
      },
      "source": [
        "plt.imshow(X[6])"
      ],
      "execution_count": 10,
      "outputs": [
        {
          "output_type": "execute_result",
          "data": {
            "text/plain": [
              "<matplotlib.image.AxesImage at 0x7fc136f83390>"
            ]
          },
          "metadata": {
            "tags": []
          },
          "execution_count": 10
        },
        {
          "output_type": "display_data",
          "data": {
            "image/png": "[encoded data removed]",
            "text/plain": [
              "<Figure size 432x288 with 1 Axes>"
            ]
          },
          "metadata": {
            "tags": [],
            "needs_background": "light"
          }
        }
      ]
    },
    {
      "cell_type": "markdown",
      "metadata": {
        "id": "g6WmKhXQJJMh",
        "colab_type": "text"
      },
      "source": [
        "# Helper Functions for Dealing With Data."
      ]
    },
    {
      "cell_type": "code",
      "metadata": {
        "id": "fbVMYpgIJJMi",
        "colab_type": "code",
        "colab": {}
      },
      "source": [
        "def one_hot_encode(vec, vals=10):\n",
        "    '''\n",
        "    For use to one-hot encode the 10- possible labels\n",
        "    '''\n",
        "    n = len(vec)\n",
        "    out = np.zeros((n, vals))\n",
        "    out[range(n), vec] = 1\n",
        "    return out"
      ],
      "execution_count": 11,
      "outputs": []
    },
    {
      "cell_type": "code",
      "metadata": {
        "id": "HpHDWM2QJJMm",
        "colab_type": "code",
        "colab": {}
      },
      "source": [
        "class CifarHelper():\n",
        "    \n",
        "    def __init__(self):\n",
        "        self.i = 0\n",
        "        \n",
        "        # Grabs a list of all the data batches for training\n",
        "        self.all_train_batches = [data_batch1,data_batch2,data_batch3,data_batch4,data_batch5]\n",
        "        # Grabs a list of all the test batches (really just one batch)\n",
        "        self.test_batch = [test_batch]\n",
        "        \n",
        "        # Intialize some empty variables for later on\n",
        "        self.training_images = None\n",
        "        self.training_labels = None\n",
        "        \n",
        "        self.test_images = None\n",
        "        self.test_labels = None\n",
        "    \n",
        "    def set_up_images(self):\n",
        "        \n",
        "        print(\"Setting Up Training Images and Labels\")\n",
        "        \n",
        "        # Vertically stacks the training images\n",
        "        self.training_images = np.vstack([d[b\"data\"] for d in self.all_train_batches])\n",
        "        train_len = len(self.training_images)\n",
        "        \n",
        "        # Reshapes and normalizes training images\n",
        "        self.training_images = self.training_images.reshape(train_len,3,32,32).transpose(0,2,3,1)/255\n",
        "        # One hot Encodes the training labels (e.g. [0,0,0,1,0,0,0,0,0,0])\n",
        "        self.training_labels = one_hot_encode(np.hstack([d[b\"labels\"] for d in self.all_train_batches]), 10)\n",
        "        \n",
        "        print(\"Setting Up Test Images and Labels\")\n",
        "        \n",
        "        # Vertically stacks the test images\n",
        "        self.test_images = np.vstack([d[b\"data\"] for d in self.test_batch])\n",
        "        test_len = len(self.test_images)\n",
        "        \n",
        "        # Reshapes and normalizes test images\n",
        "        self.test_images = self.test_images.reshape(test_len,3,32,32).transpose(0,2,3,1)/255\n",
        "        # One hot Encodes the test labels (e.g. [0,0,0,1,0,0,0,0,0,0])\n",
        "        self.test_labels = one_hot_encode(np.hstack([d[b\"labels\"] for d in self.test_batch]), 10)\n",
        "\n",
        "        \n",
        "    def next_batch(self, batch_size):\n",
        "        # Note that the 100 dimension in the reshape call is set by an assumed batch size of 100\n",
        "        x = self.training_images[self.i:self.i+batch_size].reshape(100,32,32,3)\n",
        "        y = self.training_labels[self.i:self.i+batch_size]\n",
        "        self.i = (self.i + batch_size) % len(self.training_images)\n",
        "        return x, y"
      ],
      "execution_count": 12,
      "outputs": []
    },
    {
      "cell_type": "code",
      "metadata": {
        "id": "DTukmX9iJJMr",
        "colab_type": "code",
        "colab": {
          "base_uri": "https://localhost:8080/",
          "height": 51
        },
        "outputId": "74e0483e-ea35-466a-ab5a-504805fbaaf4"
      },
      "source": [
        "ch = CifarHelper()\n",
        "ch.set_up_images()"
      ],
      "execution_count": 13,
      "outputs": [
        {
          "output_type": "stream",
          "text": [
            "Setting Up Training Images and Labels\n",
            "Setting Up Test Images and Labels\n"
          ],
          "name": "stdout"
        }
      ]
    },
    {
      "cell_type": "markdown",
      "metadata": {
        "id": "NcJnUrigJJMv",
        "colab_type": "text"
      },
      "source": [
        "## Creating the Model"
      ]
    },
    {
      "cell_type": "code",
      "metadata": {
        "id": "1MKmNkgjJJMw",
        "colab_type": "code",
        "colab": {}
      },
      "source": [
        "import tensorflow.compat.v1 as tf"
      ],
      "execution_count": 14,
      "outputs": []
    },
    {
      "cell_type": "code",
      "metadata": {
        "id": "1m2lpp0HJJMz",
        "colab_type": "code",
        "colab": {}
      },
      "source": [
        "tf.disable_eager_execution()\n",
        "tf.disable_eager_execution()"
      ],
      "execution_count": 15,
      "outputs": []
    },
    {
      "cell_type": "code",
      "metadata": {
        "id": "pm-M5M_6JJM3",
        "colab_type": "code",
        "colab": {}
      },
      "source": [
        "x = tf.placeholder(tf.float32, shape=[None, 32, 32, 3] )\n",
        "y_true = tf.placeholder(tf.float32, shape=[None, 10])"
      ],
      "execution_count": 16,
      "outputs": []
    },
    {
      "cell_type": "code",
      "metadata": {
        "id": "_dXY2nlTJJM7",
        "colab_type": "code",
        "colab": {}
      },
      "source": [
        "hold_prob = tf.placeholder(tf.float32)\n",
        "hold_prob_1 = tf.placeholder(tf.float32)\n",
        "hold_prob_2 = tf.placeholder(tf.float32)\n",
        "hold_prob_3 = tf.placeholder(tf.float32)"
      ],
      "execution_count": 17,
      "outputs": []
    },
    {
      "cell_type": "code",
      "metadata": {
        "id": "bnAWr16hJJM_",
        "colab_type": "code",
        "colab": {}
      },
      "source": [
        "def init_weights(shape):\n",
        "    init_random_dist = tf.truncated_normal(shape, stddev=0.1)\n",
        "    return tf.Variable(init_random_dist)"
      ],
      "execution_count": 18,
      "outputs": []
    },
    {
      "cell_type": "code",
      "metadata": {
        "id": "xIVWY51tJJNC",
        "colab_type": "code",
        "colab": {}
      },
      "source": [
        "def init_bias(shape):\n",
        "    init_bias_vals = tf.constant(0.1, shape=shape)\n",
        "    return tf.Variable(init_bias_vals)"
      ],
      "execution_count": 19,
      "outputs": []
    },
    {
      "cell_type": "code",
      "metadata": {
        "id": "8QBn-oIFJJNF",
        "colab_type": "code",
        "colab": {}
      },
      "source": [
        "def conv2d(x, W):\n",
        "    return tf.nn.conv2d(x, W, strides=[1, 1, 1, 1], padding='SAME')"
      ],
      "execution_count": 20,
      "outputs": []
    },
    {
      "cell_type": "code",
      "metadata": {
        "id": "KD-OXQl-JJNK",
        "colab_type": "code",
        "colab": {}
      },
      "source": [
        "def max_pool_2by2(x):\n",
        "    return tf.nn.max_pool(x, ksize=[1, 2, 2, 1], strides=[1, 2, 2, 1], padding='SAME')"
      ],
      "execution_count": 21,
      "outputs": []
    },
    {
      "cell_type": "code",
      "metadata": {
        "id": "eHxExoiHJJNN",
        "colab_type": "code",
        "colab": {}
      },
      "source": [
        "def convolutional_layer(input_x, shape):\n",
        "    W = init_weights(shape)\n",
        "    b = init_bias([shape[3]])\n",
        "    return tf.nn.relu(conv2d(input_x, W) + b)"
      ],
      "execution_count": 22,
      "outputs": []
    },
    {
      "cell_type": "code",
      "metadata": {
        "id": "1mhPSJ1vJJNQ",
        "colab_type": "code",
        "colab": {}
      },
      "source": [
        "def normal_full_layer(input_layer, size):\n",
        "    input_size = int(input_layer.get_shape()[1])\n",
        "    W = init_weights([input_size, size])\n",
        "    b = init_bias([size])\n",
        "    return tf.matmul(input_layer, W) + b"
      ],
      "execution_count": 23,
      "outputs": []
    },
    {
      "cell_type": "code",
      "metadata": {
        "id": "AG_LR42zJJNU",
        "colab_type": "code",
        "colab": {
          "base_uri": "https://localhost:8080/",
          "height": 139
        },
        "outputId": "e96404df-1828-43bf-8703-982f608bc972"
      },
      "source": [
        "convo_1 = convolutional_layer(x,shape=[3,3,3,32])\n",
        "convo_1_pooling = max_pool_2by2(convo_1)\n",
        "dropout_layer_1 = tf.nn.dropout(convo_1_pooling, hold_prob_1)"
      ],
      "execution_count": 24,
      "outputs": [
        {
          "output_type": "stream",
          "text": [
            "WARNING:tensorflow:From /usr/local/lib/python3.6/dist-packages/tensorflow/python/ops/resource_variable_ops.py:1666: calling BaseResourceVariable.__init__ (from tensorflow.python.ops.resource_variable_ops) with constraint is deprecated and will be removed in a future version.\n",
            "Instructions for updating:\n",
            "If using Keras pass *_constraint arguments to layers.\n",
            "WARNING:tensorflow:From <ipython-input-24-38b315ba1595>:3: calling dropout (from tensorflow.python.ops.nn_ops) with keep_prob is deprecated and will be removed in a future version.\n",
            "Instructions for updating:\n",
            "Please use `rate` instead of `keep_prob`. Rate should be set to `rate = 1 - keep_prob`.\n"
          ],
          "name": "stdout"
        }
      ]
    },
    {
      "cell_type": "code",
      "metadata": {
        "id": "Tz8k4OLgJJNY",
        "colab_type": "code",
        "colab": {}
      },
      "source": [
        "convo_2 = convolutional_layer(dropout_layer_1, shape=[3,3,32,64])\n",
        "convo_2_pooling = max_pool_2by2(convo_2)\n",
        "dropout_layer_2 = tf.nn.dropout(convo_2_pooling, hold_prob_2)"
      ],
      "execution_count": 25,
      "outputs": []
    },
    {
      "cell_type": "code",
      "metadata": {
        "id": "8SzPq5IY6pPe",
        "colab_type": "code",
        "colab": {}
      },
      "source": [
        "convo_3 = convolutional_layer(dropout_layer_2, shape=[3,3,64,128])\n",
        "convo_3_pooling = max_pool_2by2(convo_3)\n",
        "dropout_layer_3 = tf.nn.dropout(convo_3_pooling, hold_prob_3)"
      ],
      "execution_count": 26,
      "outputs": []
    },
    {
      "cell_type": "code",
      "metadata": {
        "id": "oVcLgj24JJNg",
        "colab_type": "code",
        "colab": {}
      },
      "source": [
        "flat_layer = tf.reshape(dropout_layer_3, shape=[-1, 4*4*128])"
      ],
      "execution_count": 27,
      "outputs": []
    },
    {
      "cell_type": "code",
      "metadata": {
        "id": "qCBwwGrrJJNk",
        "colab_type": "code",
        "colab": {}
      },
      "source": [
        "full_layer = normal_full_layer(flat_layer, 512)"
      ],
      "execution_count": 28,
      "outputs": []
    },
    {
      "cell_type": "code",
      "metadata": {
        "id": "_NutJ41gJJNo",
        "colab_type": "code",
        "colab": {}
      },
      "source": [
        "dropout_layer = tf.nn.dropout(full_layer, hold_prob)"
      ],
      "execution_count": 29,
      "outputs": []
    },
    {
      "cell_type": "code",
      "metadata": {
        "id": "NqbMCKrsJJNt",
        "colab_type": "code",
        "colab": {}
      },
      "source": [
        "y_pred = normal_full_layer(dropout_layer, 10)"
      ],
      "execution_count": 30,
      "outputs": []
    },
    {
      "cell_type": "code",
      "metadata": {
        "id": "YQG9MP5pJJNz",
        "colab_type": "code",
        "colab": {
          "base_uri": "https://localhost:8080/",
          "height": 173
        },
        "outputId": "2c1a2b9e-b2b8-43bf-9eb1-bbd16baf2e6e"
      },
      "source": [
        "cross_entropy = tf.reduce_mean(tf.nn.softmax_cross_entropy_with_logits(labels=y_true,logits=y_pred))"
      ],
      "execution_count": 31,
      "outputs": [
        {
          "output_type": "stream",
          "text": [
            "WARNING:tensorflow:From <ipython-input-31-e0c07892321c>:1: softmax_cross_entropy_with_logits (from tensorflow.python.ops.nn_ops) is deprecated and will be removed in a future version.\n",
            "Instructions for updating:\n",
            "\n",
            "Future major versions of TensorFlow will allow gradients to flow\n",
            "into the labels input on backprop by default.\n",
            "\n",
            "See `tf.nn.softmax_cross_entropy_with_logits_v2`.\n",
            "\n"
          ],
          "name": "stdout"
        }
      ]
    },
    {
      "cell_type": "code",
      "metadata": {
        "id": "FdxK_kUoJJN3",
        "colab_type": "code",
        "colab": {}
      },
      "source": [
        "optimizer = tf.train.AdamOptimizer(learning_rate=0.0001)\n",
        "train = optimizer.minimize(cross_entropy)"
      ],
      "execution_count": 32,
      "outputs": []
    },
    {
      "cell_type": "code",
      "metadata": {
        "id": "8h-CPG_YJJN7",
        "colab_type": "code",
        "colab": {}
      },
      "source": [
        "init = tf.global_variables_initializer()"
      ],
      "execution_count": 33,
      "outputs": []
    },
    {
      "cell_type": "code",
      "metadata": {
        "id": "WnofRzphJJN_",
        "colab_type": "code",
        "colab": {
          "base_uri": "https://localhost:8080/",
          "height": 1000
        },
        "outputId": "61402a5e-f965-4f0d-c547-90448159ca74"
      },
      "source": [
        "steps = 200000\n",
        "\n",
        "with tf.Session() as sess:\n",
        "    \n",
        "    sess.run(init)\n",
        "    \n",
        "    for i in range(steps):\n",
        "        \n",
        "        batch_x , batch_y = ch.next_batch(100)\n",
        "        \n",
        "        sess.run(train,feed_dict={x:batch_x,y_true:batch_y,hold_prob:0.5, hold_prob_1:0.8,hold_prob_2:0.7,hold_prob_3:0.6})\n",
        "        \n",
        "        # PRINT OUT A MESSAGE EVERY 10000 STEPS\n",
        "        if i%10000 == 0:\n",
        "            \n",
        "            print('Currently on step {}'.format(i))\n",
        "            print('Accuracy is:')\n",
        "            # Test the Train Model\n",
        "            matches = tf.equal(tf.argmax(y_pred,1),tf.argmax(y_true,1))\n",
        "\n",
        "            acc = tf.reduce_mean(tf.cast(matches,tf.float32))\n",
        "\n",
        "            print(sess.run(acc,feed_dict={x: ch.test_images,y_true: ch.test_labels,hold_prob:1.0, hold_prob_1:0.8,hold_prob_2:0.7,hold_prob_3:0.6}))\n",
        "            print('\\n')"
      ],
      "execution_count": 36,
      "outputs": [
        {
          "output_type": "stream",
          "text": [
            "Currently on step 0\n",
            "Accuracy is:\n",
            "0.1024\n",
            "\n",
            "\n",
            "Currently on step 10000\n",
            "Accuracy is:\n",
            "0.5532\n",
            "\n",
            "\n",
            "Currently on step 20000\n",
            "Accuracy is:\n",
            "0.6437\n",
            "\n",
            "\n",
            "Currently on step 30000\n",
            "Accuracy is:\n",
            "0.6817\n",
            "\n",
            "\n",
            "Currently on step 40000\n",
            "Accuracy is:\n",
            "0.7043\n",
            "\n",
            "\n",
            "Currently on step 50000\n",
            "Accuracy is:\n",
            "0.7137\n",
            "\n",
            "\n",
            "Currently on step 60000\n",
            "Accuracy is:\n",
            "0.726\n",
            "\n",
            "\n",
            "Currently on step 70000\n",
            "Accuracy is:\n",
            "0.7321\n",
            "\n",
            "\n",
            "Currently on step 80000\n",
            "Accuracy is:\n",
            "0.7398\n",
            "\n",
            "\n",
            "Currently on step 90000\n",
            "Accuracy is:\n",
            "0.7453\n",
            "\n",
            "\n",
            "Currently on step 100000\n",
            "Accuracy is:\n",
            "0.7481\n",
            "\n",
            "\n",
            "Currently on step 110000\n",
            "Accuracy is:\n",
            "0.7496\n",
            "\n",
            "\n",
            "Currently on step 120000\n",
            "Accuracy is:\n",
            "0.7524\n",
            "\n",
            "\n",
            "Currently on step 130000\n",
            "Accuracy is:\n",
            "0.7541\n",
            "\n",
            "\n",
            "Currently on step 140000\n",
            "Accuracy is:\n",
            "0.7468\n",
            "\n",
            "\n",
            "Currently on step 150000\n",
            "Accuracy is:\n",
            "0.7573\n",
            "\n",
            "\n",
            "Currently on step 160000\n",
            "Accuracy is:\n",
            "0.7521\n",
            "\n",
            "\n",
            "Currently on step 170000\n",
            "Accuracy is:\n",
            "0.7537\n",
            "\n",
            "\n",
            "Currently on step 180000\n",
            "Accuracy is:\n",
            "0.7577\n",
            "\n",
            "\n",
            "Currently on step 190000\n",
            "Accuracy is:\n",
            "0.7589\n",
            "\n",
            "\n"
          ],
          "name": "stdout"
        }
      ]
    },
    {
      "cell_type": "code",
      "metadata": {
        "id": "Dy7gAnBSJJOC",
        "colab_type": "code",
        "colab": {}
      },
      "source": [
        ""
      ],
      "execution_count": null,
      "outputs": []
    }
  ]
}